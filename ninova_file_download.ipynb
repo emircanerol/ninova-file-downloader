{
 "cells": [
  {
   "cell_type": "code",
   "execution_count": 278,
   "id": "28fc2cbb-d232-435d-a952-f105c590f3b6",
   "metadata": {},
   "outputs": [],
   "source": [
    "from selenium import webdriver\n",
    "from selenium.webdriver.common.keys import Keys\n",
    "from selenium.webdriver.common.by import By\n",
    "from selenium.webdriver.support.ui import WebDriverWait\n",
    "from selenium.webdriver.support import expected_conditions as EC\n",
    "from selenium.webdriver.common.keys import Keys\n",
    "from selenium.webdriver import ActionChains\n",
    "import time\n",
    "import getpass\n",
    "import os\n",
    "import sys"
   ]
  },
  {
   "cell_type": "code",
   "execution_count": 287,
   "id": "d1bd9847-2aa5-4be3-a545-50bdcdda3efc",
   "metadata": {},
   "outputs": [],
   "source": [
    "if sys.platform == 'darwin':\n",
    "    ctrl = Keys.COMMAND\n",
    "else: ctrl = Keys.CONTROL"
   ]
  },
  {
   "cell_type": "code",
   "execution_count": null,
   "id": "eabe5efd-4414-4b89-8141-d52413536775",
   "metadata": {},
   "outputs": [
    {
     "name": "stderr",
     "output_type": "stream",
     "text": [
      "/var/folders/v0/w3_rg1yn73q9cjs3q6kf4v400000gn/T/ipykernel_8817/1914832522.py:2: DeprecationWarning: executable_path has been deprecated, please pass in a Service object\n",
      "  driver = webdriver.Chrome(chrome_driver_path)\n"
     ]
    }
   ],
   "source": [
    "chrome_driver_path = \"/Users/emircan/Desktop/string mathcing/translation scraping/chromedriver\"\n",
    "driver = webdriver.Chrome(chrome_driver_path)\n",
    "driver.get(\"https://girisv3.itu.edu.tr\")\n",
    "user_xpath = '//*[@id=\"ContentPlaceHolder1_tbUserName\"]'\n",
    "password_xpath = '//*[@id=\"ContentPlaceHolder1_tbPassword\"]'\n",
    "user = driver.find_element(By.XPATH, user_xpath)\n",
    "password = driver.find_element(By.XPATH, password_xpath)\n",
    "user.send_keys(input(\"Username: \"))\n",
    "password.send_keys(getpass.getpass(\"Password: \"))\n",
    "driver.find_element(By.XPATH, '//*[@id=\"ContentPlaceHolder1_btnLogin\"]').click()\n",
    "driver.get(\"https://ninova.itu.edu.tr/Kampus1\")\n",
    "\n",
    "lessons = driver.find_element(By.XPATH, '//*[@id=\"aspnetForm\"]/div[3]/div[3]/div[2]/div/div[1]/ul')\n",
    "lessons_links = lessons.find_elements(By.TAG_NAME, 'a')\n",
    "actions = ActionChains(driver)\n",
    "for i in lessons_links:\n",
    "    actions.key_down(ctrl).click(i).key_up(ctrl)\n",
    "    actions.perform()\n",
    "\n",
    "driver.switch_to.window(driver.window_handles[0])\n",
    "driver.close()\n",
    "for i in driver.window_handles:\n",
    "    driver.switch_to.window(i)\n",
    "    class_files_xpath = '//*[@id=\"aspnetForm\"]/div[3]/div[3]/div[3]/div/table/tbody/tr/td[1]/div[2]/h2/a'\n",
    "    course_files_xpath = '//*[@id=\"aspnetForm\"]/div[3]/div[3]/div[3]/div/table/tbody/tr/td[2]/div[2]/h2/a'\n",
    "    actions.key_down(ctrl).click(driver.find_element(By.XPATH, class_files_xpath)).key_up(ctrl)\n",
    "    actions.key_down(ctrl).click(driver.find_element(By.XPATH, course_files_xpath)).key_up(ctrl)\n",
    "    actions.perform()\n",
    "    driver.close()"
   ]
  },
  {
   "cell_type": "code",
   "execution_count": 115,
   "id": "2c3c2f2e-f6fb-4d95-bfb2-786762a81f05",
   "metadata": {},
   "outputs": [],
   "source": [
    "if not \"Dersler\" in os.listdir(os.getcwd()):\n",
    "    os.mkdir('Dersler')\n",
    "os.chdir('Dersler')\n",
    "lessons = os.getcwd()"
   ]
  },
  {
   "cell_type": "code",
   "execution_count": 269,
   "id": "e35be302-d67b-4d08-8cfd-500c32d714a0",
   "metadata": {},
   "outputs": [],
   "source": [
    "driver.switch_to.window(driver.window_handles[4])\n",
    "course_name = driver.find_element(By.XPATH, '//*[@id=\"aspnetForm\"]/div[3]/div[2]/div[1]/a[3]').text"
   ]
  },
  {
   "cell_type": "code",
   "execution_count": 130,
   "id": "eec0e64b-874e-4190-adb7-737559891f45",
   "metadata": {},
   "outputs": [],
   "source": [
    "if not course_name in os.listdir():\n",
    "    os.mkdir(course_name)\n",
    "os.chdir(course_name)"
   ]
  },
  {
   "cell_type": "code",
   "execution_count": 180,
   "id": "36ebc669-abbe-4b12-96fc-ff493d95b278",
   "metadata": {},
   "outputs": [],
   "source": [
    "path = driver.find_element(By.XPATH, '//*[@id=\"aspnetForm\"]/div[3]/div[3]/div[3]/div/div[2]/div[1]').text[1:]"
   ]
  },
  {
   "cell_type": "code",
   "execution_count": 181,
   "id": "ed814005-e736-4b86-b611-e5e9dd04473b",
   "metadata": {},
   "outputs": [],
   "source": [
    "# distinction for class, course files\n",
    "class_or_course = driver.find_element(By.XPATH, '//*[@id=\"ctl00_pnlHeader\"]/h1').text"
   ]
  },
  {
   "cell_type": "code",
   "execution_count": 154,
   "id": "09f521f4-ca96-456f-a0e8-1124e673b6bc",
   "metadata": {},
   "outputs": [],
   "source": [
    "# create a new folder to clone\n",
    "if not class_or_course in os.listdir():\n",
    "    os.mkdir(class_or_course)\n",
    "os.chdir(class_or_course)"
   ]
  },
  {
   "cell_type": "code",
   "execution_count": 270,
   "id": "25574ab2-9b72-46c2-8c98-55842da803d3",
   "metadata": {},
   "outputs": [
    {
     "name": "stdout",
     "output_type": "stream",
     "text": [
      "Project Related Files\n",
      "Course Info\n",
      "Handout\n"
     ]
    }
   ],
   "source": [
    "# open all files/folders in a new tab\n",
    "links = driver.find_elements(By.CSS_SELECTOR, '#aspnetForm > div.tasiyici > div.icerik > div.orta > div > div.dosyaSistemi > table.data > tbody tr:not(:first-child) a')\n",
    "for i in links:\n",
    "    actions.key_down(ctrl).click(i).key_up(ctrl)\n",
    "    actions.perform()"
   ]
  },
  {
   "cell_type": "code",
   "execution_count": null,
   "id": "33ddc40d-ee72-40ee-a072-2ed66c560d86",
   "metadata": {},
   "outputs": [],
   "source": []
  }
 ],
 "metadata": {
  "kernelspec": {
   "display_name": "Python 3 (ipykernel)",
   "language": "python",
   "name": "python3"
  },
  "language_info": {
   "codemirror_mode": {
    "name": "ipython",
    "version": 3
   },
   "file_extension": ".py",
   "mimetype": "text/x-python",
   "name": "python",
   "nbconvert_exporter": "python",
   "pygments_lexer": "ipython3",
   "version": "3.10.0"
  }
 },
 "nbformat": 4,
 "nbformat_minor": 5
}
